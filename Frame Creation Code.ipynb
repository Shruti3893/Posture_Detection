{
 "cells": [
  {
   "cell_type": "markdown",
   "id": "9c0e6931-f09b-4714-95fb-5600b394f2a7",
   "metadata": {},
   "source": [
    "# Code For Frame Creation"
   ]
  },
  {
   "cell_type": "code",
   "execution_count": null,
   "id": "97fdc118-8194-48cc-906d-f2cdb4987b7d",
   "metadata": {},
   "outputs": [],
   "source": [
    "#Importing Necessary Libraries\n",
    "import os\n",
    "import cv2\n",
    "from time import time\n",
    "import numpy as np"
   ]
  },
  {
   "cell_type": "code",
   "execution_count": null,
   "id": "bc34eaf0-f942-4e91-b405-edc8ca74c43f",
   "metadata": {},
   "outputs": [],
   "source": [
    "# Function for Creating Folder for Frames\n",
    "def createFolder(directory):\n",
    "    try:\n",
    "        if not os.path.exists(directory):\n",
    "            os.makedirs(directory)\n",
    "    except OSError:\n",
    "        print ('Error: Creating directory. ' +  directory)"
   ]
  },
  {
   "cell_type": "code",
   "execution_count": null,
   "id": "6808ea15-22c9-458a-9fae-05f2138bf401",
   "metadata": {},
   "outputs": [],
   "source": [
    "# Code for Creating of Frames and Saving in the Desired Folder Created\n",
    "listing = os.listdir(\"C:/Users/Downloads/Raw Posure Data/\")\n",
    "frame_count = 0\n",
    "for vid in listing:\n",
    "    createFolder('C:/Users/Downloads/Frame_Images/'+vid)\n",
    "    video = \"C:/Users/Downloads/Raw Posure Data/\"+vid\n",
    "    cap = cv2.VideoCapture(video)\n",
    "    fps_list=[]\n",
    "    while cap.isOpened():\n",
    "        ret, frame = cap.read()\n",
    "        if ret == True:\n",
    "            start_time=time()\n",
    "            if cv2.waitKey(1) & 0xFF == ord('q'):\n",
    "                  break\n",
    "            frame_count+=1\n",
    "            end_time=time()\n",
    "            fps=1/np.round(end_time - start_time, 10)\n",
    "            print(f\"Frames per second : {fps}\")\n",
    "            fps_list.append(fps)           \n",
    "            location = 'C:/Users/Downloads/Frame_Images/'+vid\n",
    "            cv2.imwrite(os.path.join(location , \"Frame%d.jpg\"  % frame_count), frame)\n",
    "        else:\n",
    "            break"
   ]
  }
 ],
 "metadata": {
  "kernelspec": {
   "display_name": "Python 3 (ipykernel)",
   "language": "python",
   "name": "python3"
  },
  "language_info": {
   "codemirror_mode": {
    "name": "ipython",
    "version": 3
   },
   "file_extension": ".py",
   "mimetype": "text/x-python",
   "name": "python",
   "nbconvert_exporter": "python",
   "pygments_lexer": "ipython3",
   "version": "3.9.7"
  }
 },
 "nbformat": 4,
 "nbformat_minor": 5
}
