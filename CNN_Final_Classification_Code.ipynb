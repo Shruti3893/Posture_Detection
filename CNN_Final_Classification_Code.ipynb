{
 "cells": [
  {
   "cell_type": "markdown",
   "id": "f9fa6f7c-82ef-4428-a5f1-08e1411c0f60",
   "metadata": {},
   "source": [
    "# Final CNN Model for Classification"
   ]
  },
  {
   "cell_type": "code",
   "execution_count": 1,
   "id": "6eebf5ce-d732-4581-95ca-194921d2ef80",
   "metadata": {},
   "outputs": [],
   "source": [
    "# Importing Required Libraries\n",
    "import numpy as np\n",
    "import pandas as pd\n",
    "import cv2\n",
    "import os\n",
    "%matplotlib inline\n",
    "import matplotlib.image as mpimg\n",
    "import matplotlib.pyplot as plt\n",
    "import tensorflow as tf\n",
    "tf.compat.v1.set_random_seed(2019)\n",
    "import seaborn as sns\n",
    "from sklearn.metrics import classification_report\n",
    "from tensorflow.keras.optimizers import RMSprop,SGD,Adam\n",
    "import splitfolders\n",
    "from tensorflow.keras.preprocessing.image import ImageDataGenerator "
   ]
  },
  {
   "cell_type": "code",
   "execution_count": 2,
   "id": "f0b1ff6c-70b0-4636-9d53-e6634c1ea467",
   "metadata": {},
   "outputs": [],
   "source": [
    "# Defining model\n",
    "model = tf.keras.models.Sequential([\n",
    "    tf.keras.layers.Conv2D(16,(3,3),activation = \"relu\" , input_shape = (180,180,3)) ,\n",
    "    tf.keras.layers.MaxPooling2D(2,2),\n",
    "    tf.keras.layers.Conv2D(32,(3,3),activation = \"relu\") ,  \n",
    "    tf.keras.layers.MaxPooling2D(2,2),\n",
    "    tf.keras.layers.Conv2D(64,(3,3),activation = \"relu\") ,  \n",
    "    tf.keras.layers.MaxPooling2D(2,2),\n",
    "    tf.keras.layers.Conv2D(128,(3,3),activation = \"relu\"),  \n",
    "    tf.keras.layers.MaxPooling2D(2,2),\n",
    "    tf.keras.layers.Flatten(), \n",
    "    tf.keras.layers.Dense(550,activation=\"relu\"),      #Adding the Hidden layer\n",
    "    tf.keras.layers.Dropout(0.1,seed = 2019),\n",
    "    tf.keras.layers.Dense(400,activation =\"relu\"),\n",
    "    tf.keras.layers.Dropout(0.3,seed = 2019),\n",
    "    tf.keras.layers.Dense(300,activation=\"relu\"),\n",
    "    tf.keras.layers.Dropout(0.4,seed = 2019),\n",
    "    tf.keras.layers.Dense(200,activation =\"relu\"),\n",
    "    tf.keras.layers.Dropout(0.2,seed = 2019),\n",
    "    tf.keras.layers.Dense(5,activation = \"softmax\")   #Adding the Output Layer\n",
    "])"
   ]
  },
  {
   "cell_type": "code",
   "execution_count": 3,
   "id": "bc650020-eb40-4eed-b1af-da9f1ef0f8f9",
   "metadata": {},
   "outputs": [
    {
     "name": "stdout",
     "output_type": "stream",
     "text": [
      "Model: \"sequential\"\n",
      "_________________________________________________________________\n",
      " Layer (type)                Output Shape              Param #   \n",
      "=================================================================\n",
      " conv2d (Conv2D)             (None, 178, 178, 16)      448       \n",
      "                                                                 \n",
      " max_pooling2d (MaxPooling2D  (None, 89, 89, 16)       0         \n",
      " )                                                               \n",
      "                                                                 \n",
      " conv2d_1 (Conv2D)           (None, 87, 87, 32)        4640      \n",
      "                                                                 \n",
      " max_pooling2d_1 (MaxPooling  (None, 43, 43, 32)       0         \n",
      " 2D)                                                             \n",
      "                                                                 \n",
      " conv2d_2 (Conv2D)           (None, 41, 41, 64)        18496     \n",
      "                                                                 \n",
      " max_pooling2d_2 (MaxPooling  (None, 20, 20, 64)       0         \n",
      " 2D)                                                             \n",
      "                                                                 \n",
      " conv2d_3 (Conv2D)           (None, 18, 18, 128)       73856     \n",
      "                                                                 \n",
      " max_pooling2d_3 (MaxPooling  (None, 9, 9, 128)        0         \n",
      " 2D)                                                             \n",
      "                                                                 \n",
      " flatten (Flatten)           (None, 10368)             0         \n",
      "                                                                 \n",
      " dense (Dense)               (None, 550)               5702950   \n",
      "                                                                 \n",
      " dropout (Dropout)           (None, 550)               0         \n",
      "                                                                 \n",
      " dense_1 (Dense)             (None, 400)               220400    \n",
      "                                                                 \n",
      " dropout_1 (Dropout)         (None, 400)               0         \n",
      "                                                                 \n",
      " dense_2 (Dense)             (None, 300)               120300    \n",
      "                                                                 \n",
      " dropout_2 (Dropout)         (None, 300)               0         \n",
      "                                                                 \n",
      " dense_3 (Dense)             (None, 200)               60200     \n",
      "                                                                 \n",
      " dropout_3 (Dropout)         (None, 200)               0         \n",
      "                                                                 \n",
      " dense_4 (Dense)             (None, 5)                 1005      \n",
      "                                                                 \n",
      "=================================================================\n",
      "Total params: 6,202,295\n",
      "Trainable params: 6,202,295\n",
      "Non-trainable params: 0\n",
      "_________________________________________________________________\n"
     ]
    }
   ],
   "source": [
    "# To get the overview of the Model\n",
    "model.summary()"
   ]
  },
  {
   "cell_type": "code",
   "execution_count": 4,
   "id": "34f9df2d-603a-4b29-9076-3ab5d538a22c",
   "metadata": {},
   "outputs": [
    {
     "name": "stderr",
     "output_type": "stream",
     "text": [
      "C:\\Users\\ebicshr\\Anaconda3\\lib\\site-packages\\keras\\optimizers\\optimizer_v2\\adam.py:110: UserWarning: The `lr` argument is deprecated, use `learning_rate` instead.\n",
      "  super(Adam, self).__init__(name, **kwargs)\n"
     ]
    }
   ],
   "source": [
    "adam=Adam(lr=0.001)\n",
    "model.compile(optimizer='adam', loss='categorical_crossentropy', metrics = ['acc'])"
   ]
  },
  {
   "cell_type": "code",
   "execution_count": 5,
   "id": "366e2678-83f8-4941-b2f1-2bccc0da48af",
   "metadata": {},
   "outputs": [],
   "source": [
    "# !pip install split_folders"
   ]
  },
  {
   "cell_type": "code",
   "execution_count": 31,
   "id": "2b32794f-c54c-4363-a927-8f3006cd25a2",
   "metadata": {},
   "outputs": [],
   "source": [
    "# I have already separated Test Samples of 100 for each class. Below is the split for Train and Validation set.\n",
    "input_folder = \"C:/Users/Downloads/Object Detection\" #Enter Input Folder   \n",
    "output = \"C:/Users/Downloads/Train_Test_Data\" #Enter Output Folder\n",
    "\n",
    "splitfolders.ratio(input_folder, output=output, seed=42, ratio=(0.8,0.2))"
   ]
  },
  {
   "cell_type": "code",
   "execution_count": 5,
   "id": "7527aed2-3a92-4ddb-9c01-9963ca05d7b6",
   "metadata": {},
   "outputs": [
    {
     "name": "stdout",
     "output_type": "stream",
     "text": [
      "Found 12000 images belonging to 5 classes.\n",
      "Found 2400 images belonging to 5 classes.\n",
      "Found 500 images belonging to 5 classes.\n"
     ]
    }
   ],
   "source": [
    "bs=30         #Setting batch size\n",
    "train_dir = \"C:/Users/Downloads/Train_Test_Data/train/\"   #Setting training directory\n",
    "validation_dir = \"C:/Users/Downloads/Train_Test_Data/val/\"   #Setting Validation directory\n",
    "test_dir = \"C:/Users/Downloads/Train_Test_Data/test/\"   #Setting Testing directory\n",
    "\n",
    "# All images will be rescaled by 1./255.\n",
    "train_datagen = ImageDataGenerator( rescale = 1.0/255. )\n",
    "val_datagen  = ImageDataGenerator( rescale = 1.0/255. )\n",
    "test_datagen  = ImageDataGenerator( rescale = 1.0/255. )\n",
    "tf.random.set_seed(1)\n",
    "# Flow training images in batches of 20 using train_datagen generator\n",
    "#Flow_from_directory function lets the classifier directly identify the labels from the name of the directories the image lies in\n",
    "train_generator=train_datagen.flow_from_directory(train_dir,batch_size=bs,class_mode='categorical',target_size=(180,180))\n",
    "# Flow validation images in batches of 20 using test_datagen generator\n",
    "validation_generator =  val_datagen.flow_from_directory(validation_dir,\n",
    "                                                         batch_size=bs,\n",
    "                                                         class_mode  = 'categorical',\n",
    "                                                         target_size=(180,180))\n",
    "# Flow Testing images in batches of 20 using test_datagen generator\n",
    "test_generator =  test_datagen.flow_from_directory(test_dir,\n",
    "                                                         batch_size=bs,\n",
    "                                                         class_mode  = 'categorical',\n",
    "                                                         target_size=(180,180))"
   ]
  },
  {
   "cell_type": "code",
   "execution_count": 6,
   "id": "36eb4919-ced7-4619-88a5-3210d88e13ed",
   "metadata": {},
   "outputs": [
    {
     "name": "stdout",
     "output_type": "stream",
     "text": [
      "Epoch 1/30\n",
      "5/5 - 16s - loss: 1.6361 - acc: 0.2067 - val_loss: 1.6150 - val_acc: 0.1667 - 16s/epoch - 3s/step\n",
      "Epoch 2/30\n",
      "5/5 - 14s - loss: 1.6177 - acc: 0.1933 - val_loss: 1.6071 - val_acc: 0.0667 - 14s/epoch - 3s/step\n",
      "Epoch 3/30\n",
      "5/5 - 13s - loss: 1.6030 - acc: 0.2267 - val_loss: 1.5770 - val_acc: 0.2333 - 13s/epoch - 3s/step\n",
      "Epoch 4/30\n",
      "5/5 - 13s - loss: 1.5675 - acc: 0.2267 - val_loss: 1.6274 - val_acc: 0.0667 - 13s/epoch - 3s/step\n",
      "Epoch 5/30\n",
      "5/5 - 12s - loss: 1.5421 - acc: 0.2467 - val_loss: 1.5488 - val_acc: 0.3333 - 12s/epoch - 2s/step\n",
      "Epoch 6/30\n",
      "5/5 - 13s - loss: 1.4974 - acc: 0.2933 - val_loss: 1.2479 - val_acc: 0.5333 - 13s/epoch - 3s/step\n",
      "Epoch 7/30\n",
      "5/5 - 14s - loss: 1.3594 - acc: 0.3933 - val_loss: 1.3264 - val_acc: 0.2333 - 14s/epoch - 3s/step\n",
      "Epoch 8/30\n",
      "5/5 - 12s - loss: 1.4215 - acc: 0.3600 - val_loss: 1.4040 - val_acc: 0.3333 - 12s/epoch - 2s/step\n",
      "Epoch 9/30\n",
      "5/5 - 13s - loss: 1.2887 - acc: 0.4133 - val_loss: 1.2973 - val_acc: 0.4667 - 13s/epoch - 3s/step\n",
      "Epoch 10/30\n",
      "5/5 - 13s - loss: 1.0273 - acc: 0.6467 - val_loss: 0.7127 - val_acc: 0.7000 - 13s/epoch - 3s/step\n",
      "Epoch 11/30\n",
      "5/5 - 12s - loss: 0.9513 - acc: 0.6200 - val_loss: 0.7439 - val_acc: 0.7667 - 12s/epoch - 2s/step\n",
      "Epoch 12/30\n",
      "5/5 - 12s - loss: 0.7929 - acc: 0.7267 - val_loss: 0.2680 - val_acc: 0.9333 - 12s/epoch - 2s/step\n",
      "Epoch 13/30\n",
      "5/5 - 13s - loss: 0.4963 - acc: 0.8200 - val_loss: 0.5600 - val_acc: 0.7000 - 13s/epoch - 3s/step\n",
      "Epoch 14/30\n",
      "5/5 - 12s - loss: 0.5970 - acc: 0.7733 - val_loss: 0.2201 - val_acc: 0.9333 - 12s/epoch - 2s/step\n",
      "Epoch 15/30\n",
      "5/5 - 12s - loss: 0.2935 - acc: 0.9133 - val_loss: 0.1731 - val_acc: 0.9333 - 12s/epoch - 2s/step\n",
      "Epoch 16/30\n",
      "5/5 - 13s - loss: 0.4052 - acc: 0.8600 - val_loss: 0.1490 - val_acc: 0.9667 - 13s/epoch - 3s/step\n",
      "Epoch 17/30\n",
      "5/5 - 13s - loss: 0.3167 - acc: 0.9133 - val_loss: 0.1251 - val_acc: 0.9333 - 13s/epoch - 3s/step\n",
      "Epoch 18/30\n",
      "5/5 - 13s - loss: 0.3386 - acc: 0.9000 - val_loss: 0.1314 - val_acc: 1.0000 - 13s/epoch - 3s/step\n",
      "Epoch 19/30\n",
      "5/5 - 12s - loss: 0.1827 - acc: 0.9467 - val_loss: 0.1827 - val_acc: 0.9333 - 12s/epoch - 2s/step\n",
      "Epoch 20/30\n",
      "5/5 - 12s - loss: 0.1352 - acc: 0.9533 - val_loss: 0.1581 - val_acc: 0.9333 - 12s/epoch - 2s/step\n",
      "Epoch 21/30\n",
      "5/5 - 13s - loss: 0.1078 - acc: 0.9667 - val_loss: 0.1107 - val_acc: 0.9333 - 13s/epoch - 3s/step\n",
      "Epoch 22/30\n",
      "5/5 - 12s - loss: 0.0708 - acc: 0.9733 - val_loss: 0.0707 - val_acc: 0.9667 - 12s/epoch - 2s/step\n",
      "Epoch 23/30\n",
      "5/5 - 13s - loss: 0.1590 - acc: 0.9667 - val_loss: 0.0985 - val_acc: 0.9667 - 13s/epoch - 3s/step\n",
      "Epoch 24/30\n",
      "5/5 - 12s - loss: 0.0989 - acc: 0.9733 - val_loss: 0.3187 - val_acc: 0.9333 - 12s/epoch - 2s/step\n",
      "Epoch 25/30\n",
      "5/5 - 12s - loss: 0.1597 - acc: 0.9400 - val_loss: 0.0041 - val_acc: 1.0000 - 12s/epoch - 2s/step\n",
      "Epoch 26/30\n",
      "5/5 - 14s - loss: 0.0453 - acc: 0.9867 - val_loss: 0.1509 - val_acc: 0.9667 - 14s/epoch - 3s/step\n",
      "Epoch 27/30\n",
      "5/5 - 13s - loss: 0.1093 - acc: 0.9600 - val_loss: 0.0137 - val_acc: 1.0000 - 13s/epoch - 3s/step\n",
      "Epoch 28/30\n",
      "5/5 - 12s - loss: 0.0557 - acc: 0.9933 - val_loss: 0.0093 - val_acc: 1.0000 - 12s/epoch - 2s/step\n",
      "Epoch 29/30\n",
      "5/5 - 12s - loss: 0.1377 - acc: 0.9667 - val_loss: 0.0193 - val_acc: 1.0000 - 12s/epoch - 2s/step\n",
      "Epoch 30/30\n",
      "5/5 - 13s - loss: 0.1261 - acc: 0.9667 - val_loss: 0.0225 - val_acc: 1.0000 - 13s/epoch - 3s/step\n"
     ]
    }
   ],
   "source": [
    "history = model.fit(train_generator,\n",
    "                    validation_data=validation_generator,\n",
    "                    steps_per_epoch=150 // bs,\n",
    "                    epochs=30,\n",
    "                    validation_steps=50 // bs,\n",
    "                    verbose=2)"
   ]
  },
  {
   "cell_type": "code",
   "execution_count": 7,
   "id": "1f90d55c-1ac0-47de-a579-37080cb4ddf9",
   "metadata": {},
   "outputs": [
    {
     "data": {
      "image/png": "[encoded data removed]",
      "text/plain": [
       "<Figure size 1224x288 with 1 Axes>"
      ]
     },
     "metadata": {
      "needs_background": "light"
     },
     "output_type": "display_data"
    }
   ],
   "source": [
    "# Training and Validation Loss\n",
    "plt.figure(figsize=(17,4))\n",
    "plt.plot(history.history['loss'])\n",
    "plt.plot(history.history['val_loss'])\n",
    "plt.legend(['training','validation'])\n",
    "plt.title('Training and Validation loss')\n",
    "plt.ylabel('Loss')\n",
    "plt.xlabel('Epoch')\n",
    "plt.grid(b=True, which='major')\n",
    "plt.minorticks_on()\n",
    "plt.grid(b=True, which='minor', alpha=0.2)\n",
    "plt.legend(['Train', 'Validation'])\n",
    "plt.show()"
   ]
  },
  {
   "cell_type": "code",
   "execution_count": 8,
   "id": "80a97701-ad50-4fab-9923-62ba63ebd7bf",
   "metadata": {},
   "outputs": [
    {
     "data": {
      "image/png": "[encoded data removed]",
      "text/plain": [
       "<Figure size 1224x288 with 1 Axes>"
      ]
     },
     "metadata": {
      "needs_background": "light"
     },
     "output_type": "display_data"
    }
   ],
   "source": [
    "# Training and Validation Accuracy\n",
    "plt.figure(figsize=(17,4))\n",
    "plt.plot(history.history['acc'])\n",
    "plt.plot(history.history['val_acc'])\n",
    "plt.legend(['training','validation'])\n",
    "plt.title('Training and Validation accuracy')\n",
    "plt.ylabel('Accuracy')\n",
    "plt.xlabel('Epoch')\n",
    "plt.grid(b=True, which='major')\n",
    "plt.minorticks_on()\n",
    "plt.grid(b=True, which='minor', alpha=0.2)\n",
    "plt.legend(['Train', 'Validation'])\n",
    "plt.show()"
   ]
  },
  {
   "cell_type": "code",
   "execution_count": 10,
   "id": "207ac433-025d-4bef-9b17-566da297d246",
   "metadata": {},
   "outputs": [
    {
     "name": "stdout",
     "output_type": "stream",
     "text": [
      "80/80 [==============================] - 109s 1s/step - loss: 0.1105 - acc: 0.9688\n",
      "Validation accuracy: 0.96875, Validation loss is 0.1104796975851059\n"
     ]
    }
   ],
   "source": [
    "# Model Evaluation on Validation Set\n",
    "val_loss, val_accu = model.evaluate(validation_generator)\n",
    "print(f'Validation accuracy: {val_accu}, Validation loss is {val_loss}')"
   ]
  },
  {
   "cell_type": "markdown",
   "id": "a0951610-38d6-4285-935f-347fd3838655",
   "metadata": {},
   "source": [
    "## Predictions on Test Data"
   ]
  },
  {
   "cell_type": "code",
   "execution_count": 11,
   "id": "45385535-8a67-465c-9dde-48cd57326814",
   "metadata": {},
   "outputs": [
    {
     "name": "stdout",
     "output_type": "stream",
     "text": [
      "17/17 [==============================] - 23s 1s/step - loss: 0.0060 - acc: 1.0000\n",
      "Test accuracy: 1.0, Test loss is 0.00595909683033824\n"
     ]
    }
   ],
   "source": [
    "# Model Evaluation on Test Set\n",
    "test_loss, test_accu = model.evaluate(test_generator)\n",
    "print(f'Test accuracy: {test_accu}, Test loss is {test_loss}')"
   ]
  },
  {
   "cell_type": "code",
   "execution_count": 16,
   "id": "95ed17ab-09e9-47cb-bd0e-a5ff5904a3df",
   "metadata": {},
   "outputs": [
    {
     "data": {
      "text/plain": [
       "500"
      ]
     },
     "execution_count": 16,
     "metadata": {},
     "output_type": "execute_result"
    }
   ],
   "source": [
    "# Input Dataframe\n",
    "listing = os.listdir(\"C:/Users/Downloads/Train_Test_Data/test/\")\n",
    "columns=['Image_Name','Actual_Values']\n",
    "input_df = pd.DataFrame(columns=columns)\n",
    "Image_Name=[]\n",
    "Actual_Values=[]\n",
    "for lis in listing:\n",
    "    Class_folder = os.listdir(\"C:/Users/Downloads/Train_Test_Data/test/\"+lis)\n",
    "    input_df = pd.DataFrame(columns=columns)\n",
    "    for i in Class_folder:\n",
    "        Image_Name.append(i)\n",
    "        Actual_Values.append(lis)\n",
    "    input_df['Image_Name']=Image_Name\n",
    "    input_df['Actual_Values']=Actual_Values\n",
    "len(input_df)   "
   ]
  },
  {
   "cell_type": "code",
   "execution_count": 17,
   "id": "0b115bf0-2b2d-431e-8e40-95dd6a96310f",
   "metadata": {},
   "outputs": [],
   "source": [
    "# Predicted Dataframe\n",
    "class_names=['Jumping','Lay_Down','Partial_Lay_Down','Sitting','Standing']\n",
    "columns=['Predicted_Values','Confidence']\n",
    "pred=pd.DataFrame(columns=columns)\n",
    "Predicted_Values=[]\n",
    "Confidence=[]\n",
    "predictions = model.predict(test_generator)\n",
    "for i in range(len(predictions)):\n",
    "    score = tf.nn.softmax(predictions[i])\n",
    "    Predicted_Values.append(class_names[np.argmax(score)])\n",
    "    Confidence.append(100 * np.max(score))\n",
    "pred['Predicted_Values']=Predicted_Values\n",
    "pred['Confidence']=Confidence"
   ]
  },
  {
   "cell_type": "code",
   "execution_count": 45,
   "id": "ea59cfcd-6da1-4108-94cd-a752c4fb71c4",
   "metadata": {},
   "outputs": [],
   "source": [
    "df_final=pd.concat([input_df,pred],axis=1)\n",
    "# df_final.head()\n",
    "# df_final.to_csv(\"df_final.csv\")"
   ]
  },
  {
   "cell_type": "markdown",
   "id": "0151908e-30d7-4725-aebd-9e875405ddd4",
   "metadata": {},
   "source": [
    "## Model Evaluation"
   ]
  },
  {
   "cell_type": "code",
   "execution_count": 52,
   "id": "a3466591-d114-418b-b583-c52d1b88da2b",
   "metadata": {},
   "outputs": [
    {
     "data": {
      "text/html": [
       "<div>\n",
       "<style scoped>\n",
       "    .dataframe tbody tr th:only-of-type {\n",
       "        vertical-align: middle;\n",
       "    }\n",
       "\n",
       "    .dataframe tbody tr th {\n",
       "        vertical-align: top;\n",
       "    }\n",
       "\n",
       "    .dataframe thead th {\n",
       "        text-align: right;\n",
       "    }\n",
       "</style>\n",
       "<table border=\"1\" class=\"dataframe\">\n",
       "  <thead>\n",
       "    <tr style=\"text-align: right;\">\n",
       "      <th></th>\n",
       "      <th>Image_Name</th>\n",
       "      <th>Actual_Values</th>\n",
       "      <th>Predicted_Values</th>\n",
       "      <th>Confidence</th>\n",
       "    </tr>\n",
       "  </thead>\n",
       "  <tbody>\n",
       "    <tr>\n",
       "      <th>0</th>\n",
       "      <td>Jumping3127.jpg</td>\n",
       "      <td>Jumping</td>\n",
       "      <td>Jumping</td>\n",
       "      <td>40.460959</td>\n",
       "    </tr>\n",
       "    <tr>\n",
       "      <th>1</th>\n",
       "      <td>Jumping3131.jpg</td>\n",
       "      <td>Jumping</td>\n",
       "      <td>Jumping</td>\n",
       "      <td>40.460962</td>\n",
       "    </tr>\n",
       "    <tr>\n",
       "      <th>2</th>\n",
       "      <td>Jumping3132.jpg</td>\n",
       "      <td>Jumping</td>\n",
       "      <td>Jumping</td>\n",
       "      <td>40.460956</td>\n",
       "    </tr>\n",
       "    <tr>\n",
       "      <th>3</th>\n",
       "      <td>Jumping3155.jpg</td>\n",
       "      <td>Jumping</td>\n",
       "      <td>Jumping</td>\n",
       "      <td>40.460950</td>\n",
       "    </tr>\n",
       "    <tr>\n",
       "      <th>4</th>\n",
       "      <td>Jumping3163.jpg</td>\n",
       "      <td>Jumping</td>\n",
       "      <td>Jumping</td>\n",
       "      <td>40.460971</td>\n",
       "    </tr>\n",
       "  </tbody>\n",
       "</table>\n",
       "</div>"
      ],
      "text/plain": [
       "        Image_Name Actual_Values Predicted_Values  Confidence\n",
       "0  Jumping3127.jpg       Jumping          Jumping   40.460959\n",
       "1  Jumping3131.jpg       Jumping          Jumping   40.460962\n",
       "2  Jumping3132.jpg       Jumping          Jumping   40.460956\n",
       "3  Jumping3155.jpg       Jumping          Jumping   40.460950\n",
       "4  Jumping3163.jpg       Jumping          Jumping   40.460971"
      ]
     },
     "execution_count": 52,
     "metadata": {},
     "output_type": "execute_result"
    }
   ],
   "source": [
    "df_output=pd.read_csv(r\"C:\\Users\\Downloads\\df_final.csv\")\n",
    "df_output.head()"
   ]
  },
  {
   "cell_type": "code",
   "execution_count": 53,
   "id": "f1f0bed9-1fe7-414d-ae31-8f2a607a2793",
   "metadata": {},
   "outputs": [
    {
     "name": "stdout",
     "output_type": "stream",
     "text": [
      "                  precision    recall  f1-score   support\n",
      "\n",
      "        Standing       0.93      0.97      0.95       100\n",
      "         Sitting       0.98      0.98      0.98       100\n",
      "        Lay_Down       0.99      0.98      0.98       100\n",
      "Partial_Lay_Down       0.99      0.98      0.98       100\n",
      "         Jumping       0.98      0.96      0.97       100\n",
      "\n",
      "        accuracy                           0.97       500\n",
      "       macro avg       0.97      0.97      0.97       500\n",
      "    weighted avg       0.97      0.97      0.97       500\n",
      "\n"
     ]
    }
   ],
   "source": [
    "# Classification Report for Test Data\n",
    "y_true=df_output['Actual_Values'].to_list()\n",
    "y_pred=df_output['Predicted_Values'].to_list()\n",
    "print(classification_report(y_true, y_pred, target_names=class_names))"
   ]
  },
  {
   "cell_type": "code",
   "execution_count": 54,
   "id": "b8131678-1be7-44ac-985c-b2028bb14230",
   "metadata": {},
   "outputs": [
    {
     "name": "stdout",
     "output_type": "stream",
     "text": [
      "Predicted         Jumping  Lay_Down  Partial_Lay_Down  Sitting  Standing\n",
      "Actual                                                                  \n",
      "Jumping                97         1                 1        0         1\n",
      "Lay_Down                1        98                 0        1         0\n",
      "Partial_Lay_Down        1         1                98        0         0\n",
      "Sitting                 1         0                 0       98         1\n",
      "Standing                4         0                 0        0        96\n"
     ]
    }
   ],
   "source": [
    "# Confusion Matrix\n",
    "confusion_matrix = pd.crosstab(df_output['Actual_Values'], df_output['Predicted_Values'], rownames=['Actual'], colnames=['Predicted'])\n",
    "print (confusion_matrix)"
   ]
  },
  {
   "cell_type": "code",
   "execution_count": 55,
   "id": "68d3c80c-eaaa-4531-84f4-4a01dc3c029e",
   "metadata": {},
   "outputs": [
    {
     "data": {
      "image/png": "[encoded data removed]",
      "text/plain": [
       "<Figure size 720x504 with 2 Axes>"
      ]
     },
     "metadata": {
      "needs_background": "light"
     },
     "output_type": "display_data"
    }
   ],
   "source": [
    "#Heatmap for Actual and Predicted Values\n",
    "plt.figure(figsize=(10,7))\n",
    "plt.title('Confusion Matrix')\n",
    "sns.heatmap(confusion_matrix, annot=True)\n",
    "plt.show()"
   ]
  },
  {
   "cell_type": "markdown",
   "id": "d004c20f-91d8-4188-8fb1-135e9882aa75",
   "metadata": {},
   "source": [
    "# CONCLUSION"
   ]
  },
  {
   "cell_type": "markdown",
   "id": "4608f0c3-cc4b-4aa4-960c-a92794bd73b9",
   "metadata": {},
   "source": [
    "Model is working good as per the results reflecting in evaluation metrics. As seen clearly, although accuracy score is almost 1 (100%) but here in Classification report we see a variation in the numbers of respective classes. We are getting good and satisfactory results for almost all classes. There is an anomaly for class ‘Standing’ where Precision score is 0.93 (93%) but the recall and F1-score is acceptable. Similarly, all other classes have good recall, precision, and F1-score. Recall for ‘Jumping’ has dropped a bit to 0.96 (96%) but recall and F1-score gives a promising result."
   ]
  },
  {
   "cell_type": "code",
   "execution_count": null,
   "id": "e9875e30-f1a2-43fa-a974-11da1c14e2ca",
   "metadata": {},
   "outputs": [],
   "source": []
  },
  {
   "cell_type": "code",
   "execution_count": null,
   "id": "f63d1806-0787-4f22-977e-cfc0737db3bd",
   "metadata": {},
   "outputs": [],
   "source": []
  },
  {
   "cell_type": "code",
   "execution_count": null,
   "id": "f6746a3e-785a-4bc7-822b-55060acf5bbe",
   "metadata": {},
   "outputs": [],
   "source": []
  },
  {
   "cell_type": "code",
   "execution_count": null,
   "id": "56e4a218-f33a-485d-b4b2-39c6d0294060",
   "metadata": {},
   "outputs": [],
   "source": []
  },
  {
   "cell_type": "code",
   "execution_count": null,
   "id": "41631ad7-40ef-40aa-8bed-f1961f29c900",
   "metadata": {},
   "outputs": [],
   "source": []
  },
  {
   "cell_type": "code",
   "execution_count": null,
   "id": "fb0488d8-b3c9-48cf-9354-0d2dc879f769",
   "metadata": {},
   "outputs": [],
   "source": []
  },
  {
   "cell_type": "code",
   "execution_count": null,
   "id": "07c2862f-4720-49ec-afab-3910cbd1ead4",
   "metadata": {},
   "outputs": [],
   "source": []
  },
  {
   "cell_type": "code",
   "execution_count": null,
   "id": "45bf6869-5836-4e1c-a839-930eb3f568d8",
   "metadata": {},
   "outputs": [],
   "source": []
  }
 ],
 "metadata": {
  "kernelspec": {
   "display_name": "Python 3 (ipykernel)",
   "language": "python",
   "name": "python3"
  },
  "language_info": {
   "codemirror_mode": {
    "name": "ipython",
    "version": 3
   },
   "file_extension": ".py",
   "mimetype": "text/x-python",
   "name": "python",
   "nbconvert_exporter": "python",
   "pygments_lexer": "ipython3",
   "version": "3.9.7"
  }
 },
 "nbformat": 4,
 "nbformat_minor": 5
}
